{
 "cells": [
  {
   "cell_type": "markdown",
   "metadata": {},
   "source": [
    "## Tugas\n",
    "- Selesaikan soal-soal berikut dengan membuat program masing-masing soal sesuai yang ditanyakan.\n",
    "- Kerjakan dengan membuat cell code baru di bawah setiap soal\n"
   ]
  },
  {
   "cell_type": "markdown",
   "metadata": {},
   "source": [
    "1. Tentukan determinan matriks berikut:\n",
    "\n",
    "$$\\displaystyle A = \\left( \\begin{array}{cc}\n",
    "1 & 2 \\\\\n",
    "3 & 4\n",
    "\\end{array} \n",
    "\\right)\n",
    "$$"
   ]
  },
  {
   "cell_type": "markdown",
   "metadata": {},
   "source": [
    "#### Jawab"
   ]
  },
  {
   "cell_type": "code",
   "execution_count": 1,
   "metadata": {},
   "outputs": [
    {
     "name": "stdout",
     "output_type": "stream",
     "text": [
      "-2.0000000000000004\n"
     ]
    }
   ],
   "source": [
    "import numpy as np\n",
    "\n",
    "# Membuat matriks 2x2\n",
    "M = np.array([[1, 2], [3, 4]])\n",
    "\n",
    "# Menghitung determinan matriks\n",
    "determinant = np.linalg.det(M)\n",
    "\n",
    "print(determinant)"
   ]
  },
  {
   "cell_type": "markdown",
   "metadata": {},
   "source": [
    "2. Tentukan invers Matriks Berikut:\n",
    "\n",
    "$$\\displaystyle B = \\left( \\begin{array}{cc}\n",
    "10 & -22 \\\\\n",
    "3 & 45\n",
    "\\end{array} \n",
    "\\right)\n",
    "$$"
   ]
  },
  {
   "cell_type": "markdown",
   "metadata": {},
   "source": [
    "#### Jawab"
   ]
  },
  {
   "cell_type": "code",
   "execution_count": 3,
   "metadata": {},
   "outputs": [
    {
     "name": "stdout",
     "output_type": "stream",
     "text": [
      "[[ 0.0872093   0.04263566]\n",
      " [-0.00581395  0.01937984]]\n"
     ]
    }
   ],
   "source": [
    "import numpy as np\n",
    "\n",
    "# Membuat matriks 2x2\n",
    "M = np.array([[10, -22], [3, 45]])\n",
    "\n",
    "# Menghitung invers matriks\n",
    "inverse_of_M = np.linalg.inv(M)\n",
    "\n",
    "print(inverse_of_M)"
   ]
  },
  {
   "cell_type": "markdown",
   "metadata": {},
   "source": [
    "3. Tentukan apakah matriks berikut berkondisi buruk:\n",
    "$$\\displaystyle C = \\left( \\begin{array}{cc}\n",
    "1 & 10^{-10} \\\\\n",
    "10^{-10} & 1\n",
    "\\end{array} \n",
    "\\right)\n",
    "$$"
   ]
  },
  {
   "cell_type": "markdown",
   "metadata": {},
   "source": [
    "#### Jawab"
   ]
  },
  {
   "cell_type": "code",
   "execution_count": 5,
   "metadata": {},
   "outputs": [
    {
     "name": "stdout",
     "output_type": "stream",
     "text": [
      "1.0\n"
     ]
    }
   ],
   "source": [
    "import numpy as np\n",
    "\n",
    "# Membuat matriks 2x2\n",
    "M = np.array([[1, 1e-10], [1e-10, 1]])\n",
    "\n",
    "# Menghitung determinan matriks\n",
    "determinant = np.linalg.det(M)\n",
    "\n",
    "print(determinant)"
   ]
  },
  {
   "cell_type": "code",
   "execution_count": 6,
   "metadata": {},
   "outputs": [
    {
     "name": "stdout",
     "output_type": "stream",
     "text": [
      "[[ 1.e+00 -1.e-10]\n",
      " [-1.e-10  1.e+00]]\n"
     ]
    }
   ],
   "source": [
    "import numpy as np\n",
    "\n",
    "# Membuat matriks 2x2\n",
    "M = np.array([[1, 1e-10], [1e-10, 1]])\n",
    "\n",
    "# Menghitung invers matriks\n",
    "inverse_of_M = np.linalg.inv(M)\n",
    "\n",
    "print(inverse_of_M)"
   ]
  },
  {
   "cell_type": "code",
   "execution_count": null,
   "metadata": {},
   "outputs": [],
   "source": [
    "import numpy as np\n",
    "\n",
    "# Matriks C\n",
    "C = np.array([[1, 1e-10],\n",
    "              [1e-10, 1]])\n",
    "\n",
    "# Hitung nilai singular menggunakan nilai eigen\n",
    "eigenvalues = np.linalg.eigvals(C)\n",
    "\n",
    "# Hitung kondisi numerik\n",
    "condition_number = np.max(eigenvalues) / np.min(eigenvalues)\n",
    "\n",
    "print(\"Nilai singular (eigenvalues):\", eigenvalues)\n",
    "print(\"Kondisi numerik:\", condition_number)\n"
   ]
  },
  {
   "cell_type": "markdown",
   "metadata": {},
   "source": [
    "Matriks di atas dalam kondisi baik karena determinannya tidak sama dengan nol atau bahkan mendekati nol. Kondisi numerik (κ(C)) mendekati atau sama dengan 1, matriks C dianggap baik."
   ]
  },
  {
   "cell_type": "markdown",
   "metadata": {},
   "source": [
    "4. Tentukan apakah sistem persamaan linier berikut memiliki solusi. Jika ada, bagaimana solusinya?\n",
    "\n",
    "$$\\displaystyle A = \\left( \\begin{array}{cc}\n",
    "1 & 2 \\\\\n",
    "3 & 4\n",
    "\\end{array} \n",
    "\\right) $$\n",
    "\n",
    "\n",
    "$$\\displaystyle\n",
    "b =  \\left( \\begin{array}{cc}\n",
    "5 & 6 \n",
    "\\end{array} \n",
    "\\right) \\\\\n",
    "$$"
   ]
  },
  {
   "cell_type": "markdown",
   "metadata": {},
   "source": [
    "##### Jawab"
   ]
  },
  {
   "cell_type": "code",
   "execution_count": 11,
   "metadata": {},
   "outputs": [
    {
     "name": "stdout",
     "output_type": "stream",
     "text": [
      "Solusi:\n",
      "[-4.   4.5]\n"
     ]
    }
   ],
   "source": [
    "import numpy as np\n",
    "\n",
    "# Matriks koefisien A\n",
    "A = np.array([[1, 2],\n",
    "              [3, 4,]])\n",
    "\n",
    "# Vektor kolom hasil b\n",
    "b = np.array([5, 6])\n",
    "\n",
    "# Menyelesaikan sistem persamaan linear Ax = b\n",
    "x = np.linalg.solve(A, b)\n",
    "\n",
    "# Menampilkan solusi\n",
    "print(\"Solusi:\")\n",
    "print(x)\n"
   ]
  },
  {
   "cell_type": "markdown",
   "metadata": {},
   "source": [
    "5. Tentukan dimensi ruang nol matriks berikut:\n",
    "\n",
    "\n",
    "$$\\displaystyle\n",
    "C =\n",
    "\\left(\n",
    "\\begin{array}{ccc}\n",
    "1 & 2 & 3 \\\\\n",
    "4 & 5 & 6 \\\\\n",
    "7 & 8 & 9\n",
    "\\end{array}\n",
    "\\right)\n",
    "$$"
   ]
  },
  {
   "cell_type": "markdown",
   "metadata": {},
   "source": [
    "#### Jawab"
   ]
  },
  {
   "cell_type": "code",
   "execution_count": 15,
   "metadata": {},
   "outputs": [
    {
     "name": "stdout",
     "output_type": "stream",
     "text": [
      "Ruang Nol Matriks C:\n",
      "[[-0.47967118 -0.57236779 -0.66506441]\n",
      " [-0.77669099 -0.07568647  0.62531805]\n",
      " [-0.40824829  0.81649658 -0.40824829]]\n",
      "Dimensi Ruang Nol: 1\n"
     ]
    }
   ],
   "source": [
    "import numpy as np\n",
    "\n",
    "# Matriks C\n",
    "C = np.array([[1, 2, 3],\n",
    "              [4, 5, 6],\n",
    "              [7, 8, 9]])\n",
    "\n",
    "# Temukan ruang nol dengan menggunakan SVD\n",
    "_, _, null_space = np.linalg.svd(C)\n",
    "\n",
    "# Hitung dimensi ruang nol\n",
    "dimension_null_space = np.sum(np.isclose(_, 0))\n",
    "\n",
    "# Tampilkan hasil\n",
    "print(\"Ruang Nol Matriks C:\")\n",
    "print(null_space)\n",
    "print(f\"Dimensi Ruang Nol: {dimension_null_space}\")\n"
   ]
  }
 ],
 "metadata": {
  "kernelspec": {
   "display_name": "Python 3",
   "language": "python",
   "name": "python3"
  },
  "language_info": {
   "codemirror_mode": {
    "name": "ipython",
    "version": 3
   },
   "file_extension": ".py",
   "mimetype": "text/x-python",
   "name": "python",
   "nbconvert_exporter": "python",
   "pygments_lexer": "ipython3",
   "version": "3.11.4"
  }
 },
 "nbformat": 4,
 "nbformat_minor": 2
}
